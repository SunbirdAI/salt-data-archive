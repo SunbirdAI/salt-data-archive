{
 "cells": [
  {
   "cell_type": "code",
   "execution_count": 1,
   "id": "cbafc432-9419-41a5-92a1-85af8b1744a4",
   "metadata": {
    "tags": []
   },
   "outputs": [],
   "source": [
    "import json"
   ]
  },
  {
   "cell_type": "code",
   "execution_count": 2,
   "id": "ffd94b78-fac1-45f0-850c-da8842ba203d",
   "metadata": {
    "tags": []
   },
   "outputs": [],
   "source": [
    "dev_file = \"../salt-dev-v1.1.jsonl\"\n",
    "test_file = \"../salt-test-v1.1.jsonl\"\n",
    "train_file = \"../salt-train-v1.1.jsonl\""
   ]
  },
  {
   "cell_type": "code",
   "execution_count": 3,
   "id": "9552bd35-bafa-4be2-b27f-85129b1e6191",
   "metadata": {
    "tags": []
   },
   "outputs": [],
   "source": [
    "def get_data(filename):\n",
    "    data = []\n",
    "    \n",
    "    with open(filename) as json_file:\n",
    "        json_list = list(json_file)\n",
    "    \n",
    "    for json_str in json_list:\n",
    "        data.append(json.loads(json_str))\n",
    "    \n",
    "    return data"
   ]
  },
  {
   "cell_type": "code",
   "execution_count": 13,
   "id": "6d2ea69c-3a75-4956-860e-37395624598d",
   "metadata": {
    "tags": []
   },
   "outputs": [
    {
     "data": {
      "text/plain": [
       "{'text': {'eng': \"It's the government's responsibility to teach its people about various diseases\",\n",
       "  'lug': \"Buvunaanyizibwa bwa gavumenti okusomesa abantu baayo ku bulwadde obw'enjawulo\",\n",
       "  'ach': 'Obedo tic pa gamente me pwonyo lwak i kom two mapat pat',\n",
       "  'teo': 'Erai aswam apugan aisisianakin itunga ke nuikamunitos adekasinei nu egelegela.',\n",
       "  'lgg': \"Eri azi gamete ni imbata fezu 'ba ivile 'diyini azo ndundu eyi ma dria.\",\n",
       "  'nyn': \"N'obujunanizibwa bwa Gavumenti okwegyesa abantu baayo ebikwatirane n'endwara nyingi.\"}}"
      ]
     },
     "execution_count": 13,
     "metadata": {},
     "output_type": "execute_result"
    }
   ],
   "source": [
    "dev_data = get_data(dev_file)\n",
    "test_data = get_data(test_file)\n",
    "train_data = get_data(train_file)\n",
    "dev_data[0]"
   ]
  },
  {
   "cell_type": "code",
   "execution_count": 10,
   "id": "1b79f859-f11c-4149-884a-56fa8c8dab63",
   "metadata": {
    "tags": []
   },
   "outputs": [],
   "source": [
    "import csv\n",
    "\n",
    "def text_to_audio_file(filename):\n",
    "    text_to_audio = dict()\n",
    "    with open(filename, newline='') as csvfile:\n",
    "        reader = csv.reader(csvfile, delimiter=',')\n",
    "        next(reader)\n",
    "        for row in reader:\n",
    "            text = row[2]\n",
    "            file = \"https://salt-tts-data.s3.eu-west-1.amazonaws.com/data/\" + row[3].replace(' ', '+')\n",
    "            text_to_audio[text] = file\n",
    "    return text_to_audio"
   ]
  },
  {
   "cell_type": "code",
   "execution_count": 15,
   "id": "1e16d927-5fa9-43ab-87e4-19ee8dad14aa",
   "metadata": {
    "tags": []
   },
   "outputs": [],
   "source": [
    "english_tts = text_to_audio_file('english_studio_tts_dataset.csv')\n",
    "luganda_tts = text_to_audio_file('luganda_studio_tts_dataset.csv')"
   ]
  },
  {
   "cell_type": "code",
   "execution_count": 19,
   "id": "5f7d2299-c160-4576-afb1-3d41b258dc67",
   "metadata": {
    "tags": []
   },
   "outputs": [
    {
     "name": "stdout",
     "output_type": "stream",
     "text": [
      "4851\n"
     ]
    }
   ],
   "source": [
    "# count the number of sentences that have matching audio\n",
    "matches = 0\n",
    "for line in dev_data + test_data + train_data:\n",
    "    if line['text']['lug'] in luganda_tts:\n",
    "        matches += 1\n",
    "    if line['text']['eng'] in english_tts:\n",
    "        matches += 1\n",
    "\n",
    "print(matches)"
   ]
  },
  {
   "cell_type": "code",
   "execution_count": 23,
   "id": "deef76fe-5651-4ed1-8497-a47d8a2c3f6e",
   "metadata": {
    "tags": []
   },
   "outputs": [],
   "source": [
    "def add_tts_data(prev_data):\n",
    "    data_tts = []\n",
    "    for line in prev_data:\n",
    "        line_tts = line.copy()\n",
    "        lug_text = line['text']['lug']\n",
    "        en_text = line['text']['eng']\n",
    "        if 'tts-speech' not in line_tts and (lug_text in luganda_tts or en_text in english_tts):\n",
    "            line_tts['tts-speech'] = {}\n",
    "        if lug_text in luganda_tts:\n",
    "            line_tts['tts-speech']['lug'] = luganda_tts[lug_text]\n",
    "        if en_text in english_tts:\n",
    "            line_tts['tts-speech']['eng'] = english_tts[en_text]\n",
    "        data_tts.append(line_tts)\n",
    "    return data_tts\n",
    "\n",
    "dev_data_tts = add_tts_data(dev_data)\n",
    "test_data_tts = add_tts_data(test_data)\n",
    "train_data_tts = add_tts_data(train_data)"
   ]
  },
  {
   "cell_type": "code",
   "execution_count": 24,
   "id": "1eafd8ee-94a1-48b1-a1d6-8efd06ef3323",
   "metadata": {
    "tags": []
   },
   "outputs": [
    {
     "name": "stdout",
     "output_type": "stream",
     "text": [
      "23947\n"
     ]
    }
   ],
   "source": [
    "print(len(train_data_tts))"
   ]
  },
  {
   "cell_type": "code",
   "execution_count": 26,
   "id": "18fecf2b-4b7e-413f-85f3-fefc0a41c2c7",
   "metadata": {
    "tags": []
   },
   "outputs": [],
   "source": [
    "assert len(train_data_tts) == len(train_data)\n",
    "assert len(test_data_tts) == len(test_data)\n",
    "assert len(dev_data_tts) == len(dev_data)"
   ]
  },
  {
   "cell_type": "code",
   "execution_count": 31,
   "id": "89e1c04e-633e-4027-ab37-ae151b0902cc",
   "metadata": {
    "tags": []
   },
   "outputs": [],
   "source": [
    "def write_to_jsonl(data, output_filename):\n",
    "    with open(output_filename, 'w') as outfile:\n",
    "        for record in data:\n",
    "            json.dump(record, outfile)\n",
    "            outfile.write('\\n')\n"
   ]
  },
  {
   "cell_type": "code",
   "execution_count": 32,
   "id": "cc5c2624-e0dc-4671-8e58-08a591f618a4",
   "metadata": {
    "tags": []
   },
   "outputs": [],
   "source": [
    "write_to_jsonl(dev_data_tts, 'salt-dev-v1.2.jsonl')"
   ]
  },
  {
   "cell_type": "code",
   "execution_count": 33,
   "id": "0e0d8b85-a127-4048-a6c7-7fd844f616e4",
   "metadata": {
    "tags": []
   },
   "outputs": [],
   "source": [
    "write_to_jsonl(test_data_tts, 'salt-test-v1.2.jsonl')"
   ]
  },
  {
   "cell_type": "code",
   "execution_count": 34,
   "id": "70a2633c-b9c4-4a1d-ad79-b1bd24f6aecd",
   "metadata": {
    "tags": []
   },
   "outputs": [],
   "source": [
    "write_to_jsonl(train_data_tts, 'salt-train-v1.2.jsonl')"
   ]
  }
 ],
 "metadata": {
  "kernelspec": {
   "display_name": "Python 3 (ipykernel)",
   "language": "python",
   "name": "python3"
  },
  "language_info": {
   "codemirror_mode": {
    "name": "ipython",
    "version": 3
   },
   "file_extension": ".py",
   "mimetype": "text/x-python",
   "name": "python",
   "nbconvert_exporter": "python",
   "pygments_lexer": "ipython3",
   "version": "3.8.10"
  }
 },
 "nbformat": 4,
 "nbformat_minor": 5
}
