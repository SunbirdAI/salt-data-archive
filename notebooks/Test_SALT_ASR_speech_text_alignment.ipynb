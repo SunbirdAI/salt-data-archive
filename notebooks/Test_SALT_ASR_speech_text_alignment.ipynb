{
 "cells": [
  {
   "cell_type": "code",
   "execution_count": null,
   "metadata": {
    "id": "uL8s5NxAlHeU"
   },
   "outputs": [],
   "source": [
    "!git clone https://github.com/sunbirdai/leb.git\n",
    "!pip install -qr leb/requirements.txt\n",
    "!pip install -q editdistance\n",
    "!pip install -q transformers"
   ]
  },
  {
   "cell_type": "code",
   "execution_count": 10,
   "metadata": {
    "id": "vPEBXxINln3y"
   },
   "outputs": [],
   "source": [
    "import yaml\n",
    "import transformers\n",
    "import datasets\n",
    "import torch\n",
    "import librosa\n",
    "import editdistance\n",
    "from IPython import display\n",
    "from tqdm.notebook import tqdm\n",
    "import math\n",
    "import numpy as np"
   ]
  },
  {
   "cell_type": "markdown",
   "metadata": {},
   "source": []
  },
  {
   "cell_type": "code",
   "execution_count": 21,
   "metadata": {
    "id": "qgr9X4U41rk3"
   },
   "outputs": [
    {
     "name": "stderr",
     "output_type": "stream",
     "text": [
      "/opt/conda/lib/python3.10/site-packages/huggingface_hub/file_download.py:1132: FutureWarning: `resume_download` is deprecated and will be removed in version 1.0.0. Downloads always resume when possible. If you want to force a new download, use `force_download=True`.\n",
      "  warnings.warn(\n",
      "Some weights of the model checkpoint at Sunbird/sunbird-mms were not used when initializing Wav2Vec2ForCTC: ['wav2vec2.encoder.pos_conv_embed.conv.weight_g', 'wav2vec2.encoder.pos_conv_embed.conv.weight_v']\n",
      "- This IS expected if you are initializing Wav2Vec2ForCTC from the checkpoint of a model trained on another task or with another architecture (e.g. initializing a BertForSequenceClassification model from a BertForPreTraining model).\n",
      "- This IS NOT expected if you are initializing Wav2Vec2ForCTC from the checkpoint of a model that you expect to be exactly identical (initializing a BertForSequenceClassification model from a BertForSequenceClassification model).\n",
      "Some weights of Wav2Vec2ForCTC were not initialized from the model checkpoint at Sunbird/sunbird-mms and are newly initialized: ['wav2vec2.encoder.pos_conv_embed.conv.parametrizations.weight.original0', 'wav2vec2.encoder.pos_conv_embed.conv.parametrizations.weight.original1']\n",
      "You should probably TRAIN this model on a down-stream task to be able to use it for predictions and inference.\n"
     ]
    },
    {
     "data": {
      "application/vnd.jupyter.widget-view+json": {
       "model_id": "d2bf69fc5b7541d091313d874a657995",
       "version_major": 2,
       "version_minor": 0
      },
      "text/plain": [
       "adapter.lug.safetensors:   0%|          | 0.00/9.04M [00:00<?, ?B/s]"
      ]
     },
     "metadata": {},
     "output_type": "display_data"
    },
    {
     "name": "stdout",
     "output_type": "stream",
     "text": [
      "dataset: multispeaker-lug, split: dev\n"
     ]
    },
    {
     "data": {
      "application/vnd.jupyter.widget-view+json": {
       "model_id": "b2ae3d55b7c94563983d6dcc1bf84ada",
       "version_major": 2,
       "version_minor": 0
      },
      "text/plain": [
       "Downloading data:   0%|          | 0.00/194M [00:00<?, ?B/s]"
      ]
     },
     "metadata": {},
     "output_type": "display_data"
    },
    {
     "data": {
      "application/vnd.jupyter.widget-view+json": {
       "model_id": "6ed7b2dfba7b4d00a65aaa305f54e0a2",
       "version_major": 2,
       "version_minor": 0
      },
      "text/plain": [
       "Downloading data:   0%|          | 0.00/186M [00:00<?, ?B/s]"
      ]
     },
     "metadata": {},
     "output_type": "display_data"
    },
    {
     "data": {
      "application/vnd.jupyter.widget-view+json": {
       "model_id": "d27fab8669824f15ac86b56502d4fc6b",
       "version_major": 2,
       "version_minor": 0
      },
      "text/plain": [
       "Downloading data:   0%|          | 0.00/234M [00:00<?, ?B/s]"
      ]
     },
     "metadata": {},
     "output_type": "display_data"
    },
    {
     "data": {
      "application/vnd.jupyter.widget-view+json": {
       "model_id": "c433013d27874937b80ad4a3601d4497",
       "version_major": 2,
       "version_minor": 0
      },
      "text/plain": [
       "Downloading data:   0%|          | 0.00/175M [00:00<?, ?B/s]"
      ]
     },
     "metadata": {},
     "output_type": "display_data"
    },
    {
     "data": {
      "application/vnd.jupyter.widget-view+json": {
       "model_id": "cd30d23ca3924344ac78e457bd5a302e",
       "version_major": 2,
       "version_minor": 0
      },
      "text/plain": [
       "Downloading data:   0%|          | 0.00/183M [00:00<?, ?B/s]"
      ]
     },
     "metadata": {},
     "output_type": "display_data"
    },
    {
     "data": {
      "application/vnd.jupyter.widget-view+json": {
       "model_id": "176952e846574989b595895d37e25d6e",
       "version_major": 2,
       "version_minor": 0
      },
      "text/plain": [
       "Downloading data:   0%|          | 0.00/19.1M [00:00<?, ?B/s]"
      ]
     },
     "metadata": {},
     "output_type": "display_data"
    },
    {
     "data": {
      "application/vnd.jupyter.widget-view+json": {
       "model_id": "850455bfc64544b49cef69b4c2828ce9",
       "version_major": 2,
       "version_minor": 0
      },
      "text/plain": [
       "Downloading data:   0%|          | 0.00/19.6M [00:00<?, ?B/s]"
      ]
     },
     "metadata": {},
     "output_type": "display_data"
    },
    {
     "data": {
      "application/vnd.jupyter.widget-view+json": {
       "model_id": "67e9da055b724c78a565a07ea48ec75a",
       "version_major": 2,
       "version_minor": 0
      },
      "text/plain": [
       "Generating train split:   0%|          | 0/5016 [00:00<?, ? examples/s]"
      ]
     },
     "metadata": {},
     "output_type": "display_data"
    },
    {
     "data": {
      "application/vnd.jupyter.widget-view+json": {
       "model_id": "5b8b638c5f204c729c70ccade7443f9c",
       "version_major": 2,
       "version_minor": 0
      },
      "text/plain": [
       "Generating dev split:   0%|          | 0/103 [00:00<?, ? examples/s]"
      ]
     },
     "metadata": {},
     "output_type": "display_data"
    },
    {
     "data": {
      "application/vnd.jupyter.widget-view+json": {
       "model_id": "030b93acfb86458a9e7b2494e468be74",
       "version_major": 2,
       "version_minor": 0
      },
      "text/plain": [
       "Generating test split:   0%|          | 0/97 [00:00<?, ? examples/s]"
      ]
     },
     "metadata": {},
     "output_type": "display_data"
    },
    {
     "data": {
      "application/vnd.jupyter.widget-view+json": {
       "model_id": "02b64a68e718472e956a7e1bc3bcfcdf",
       "version_major": 2,
       "version_minor": 0
      },
      "text/plain": [
       "Transcribing:   0%|          | 0/2 [00:00<?, ?it/s]"
      ]
     },
     "metadata": {},
     "output_type": "display_data"
    },
    {
     "name": "stdout",
     "output_type": "stream",
     "text": [
      "Found 1 suspicious entries out of 103 in multispeaker-lug/dev\n",
      "dataset: multispeaker-lug, split: test\n"
     ]
    },
    {
     "data": {
      "application/vnd.jupyter.widget-view+json": {
       "model_id": "a1c561827ac64ae5bf7e3bd82dde1e44",
       "version_major": 2,
       "version_minor": 0
      },
      "text/plain": [
       "Transcribing:   0%|          | 0/2 [00:00<?, ?it/s]"
      ]
     },
     "metadata": {},
     "output_type": "display_data"
    },
    {
     "name": "stdout",
     "output_type": "stream",
     "text": [
      "Found 1 suspicious entries out of 97 in multispeaker-lug/test\n",
      "dataset: multispeaker-lug, split: train\n"
     ]
    },
    {
     "data": {
      "application/vnd.jupyter.widget-view+json": {
       "model_id": "080fa33e66ca45e083edb7002b9fd6a9",
       "version_major": 2,
       "version_minor": 0
      },
      "text/plain": [
       "Transcribing:   0%|          | 0/79 [00:00<?, ?it/s]"
      ]
     },
     "metadata": {},
     "output_type": "display_data"
    },
    {
     "name": "stdout",
     "output_type": "stream",
     "text": [
      "Found 19 suspicious entries out of 5016 in multispeaker-lug/train\n"
     ]
    }
   ],
   "source": [
    "BATCH_SIZE = 64\n",
    "MODEL_SAMPLE_RATE = 16_000\n",
    "\n",
    "all_transcriptions = {}\n",
    "\n",
    "def transcribe_batch(audio_batch, sample_rate_batch):\n",
    "    audio_resampled_batch = [\n",
    "        librosa.resample(audio, orig_sr=orig_sr, target_sr=MODEL_SAMPLE_RATE) if orig_sr != MODEL_SAMPLE_RATE else audio\n",
    "        for audio, orig_sr in zip(audio_batch, sample_rate_batch)\n",
    "    ]\n",
    "    inputs_batch = [\n",
    "        processor(audio, sampling_rate=16_000, return_tensors=\"pt\").to(device) for audio in audio_resampled_batch\n",
    "    ]\n",
    "    with torch.no_grad():\n",
    "        outputs_batch = [\n",
    "            model(**input).logits for input in inputs_batch\n",
    "        ]\n",
    "    return [\n",
    "        processor.decode(torch.argmax(output, dim=-1)[0]) for output in outputs_batch\n",
    "    ]\n",
    "\n",
    "# Loop over languages and splits\n",
    "languages = ['lug'] #['eng', 'nyn', 'lgg', 'teo', 'ach']\n",
    "\n",
    "model_id = \"Sunbird/sunbird-mms\"\n",
    "processor = transformers.AutoProcessor.from_pretrained(model_id)\n",
    "model = transformers.Wav2Vec2ForCTC.from_pretrained(model_id)\n",
    "device = 'cuda:0'\n",
    "model.to(device)\n",
    "\n",
    "for language in languages:\n",
    "\n",
    "  all_transcriptions[language] = {}\n",
    "\n",
    "  config_name = 'multispeaker-' + language\n",
    "  model.load_adapter(language)\n",
    "  processor.tokenizer.set_target_lang(language)\n",
    "\n",
    "  for split in ['dev', 'test', 'train']:\n",
    "\n",
    "    print(f'dataset: {config_name}, split: {split}')\n",
    "\n",
    "    ds = datasets.load_dataset(\n",
    "        'Sunbird/salt', f'multispeaker-{language}', split=split)\n",
    "    df = ds.to_pandas()\n",
    "\n",
    "    # Batching\n",
    "    n = len(df)\n",
    "    n_batches = math.ceil(n / BATCH_SIZE)\n",
    "\n",
    "    # Progress bar\n",
    "    pbar = tqdm(total=n_batches, desc=\"Transcribing\")\n",
    "\n",
    "    # Placeholder for results\n",
    "    transcriptions = []\n",
    "\n",
    "    for i in range(n_batches):\n",
    "        start = i * BATCH_SIZE\n",
    "        end = start + BATCH_SIZE\n",
    "        sample = df.iloc[start:end]\n",
    "        audio_batch = sample[\"audio\"].tolist()\n",
    "        sample_rate_batch = sample[\"sample_rate\"].tolist()\n",
    "        transcriptions_batch = transcribe_batch(audio_batch, sample_rate_batch)\n",
    "        transcriptions.extend(transcriptions_batch)\n",
    "\n",
    "        # Update progress bar\n",
    "        pbar.update()\n",
    "\n",
    "    # Assign transcriptions back to dataframe\n",
    "    df[\"transcription\"] = transcriptions\n",
    "\n",
    "    # Close progress bar\n",
    "    pbar.close()\n",
    "\n",
    "    edit_distances = [editdistance.eval(t1.lower(), t2)\n",
    "                      for t1, t2 in zip(df['text'], transcriptions)]\n",
    "\n",
    "    df['edit_distance'] = edit_distances\n",
    "\n",
    "    del(df['audio'])\n",
    "\n",
    "    suspicious = np.where(np.array(edit_distances) > 30)[0]\n",
    "    print(f'Found {len(suspicious)} suspicious entries out of {len(df)} in {config_name}/{split}')\n",
    "\n",
    "    all_transcriptions[language][split] = df.to_dict()"
   ]
  },
  {
   "cell_type": "code",
   "execution_count": 25,
   "metadata": {
    "id": "sMHd7oneI-GO"
   },
   "outputs": [],
   "source": [
    "import json\n",
    "with open('SALT-transcriptions.json', 'w') as fp:\n",
    "    json.dump(all_transcriptions, fp)"
   ]
  },
  {
   "cell_type": "code",
   "execution_count": null,
   "metadata": {},
   "outputs": [],
   "source": []
  }
 ],
 "metadata": {
  "accelerator": "GPU",
  "colab": {
   "gpuType": "T4",
   "provenance": []
  },
  "kernelspec": {
   "display_name": "Python 3 (ipykernel)",
   "language": "python",
   "name": "python3"
  },
  "language_info": {
   "codemirror_mode": {
    "name": "ipython",
    "version": 3
   },
   "file_extension": ".py",
   "mimetype": "text/x-python",
   "name": "python",
   "nbconvert_exporter": "python",
   "pygments_lexer": "ipython3",
   "version": "3.10.13"
  }
 },
 "nbformat": 4,
 "nbformat_minor": 4
}
